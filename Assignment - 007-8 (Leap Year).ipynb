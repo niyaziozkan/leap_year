{
 "cells": [
  {
   "cell_type": "code",
   "execution_count": 10,
   "metadata": {},
   "outputs": [
    {
     "name": "stdout",
     "output_type": "stream",
     "text": [
      "Please enter a year: 2000\n",
      "2000 is a leap year\n"
     ]
    }
   ],
   "source": [
    "def leap(x):\n",
    "    if x % 4 == 0 and x % 100 != 0:\n",
    "        print(f\"{x} is a leap year\")\n",
    "    elif x % 4 == 0 and x % 100 == 0 and x % 400 == 0:\n",
    "        print(f\"{x} is a leap year\")\n",
    "    else:\n",
    "        print(f\"{x} is not a leap year\")\n",
    "\n",
    "x = int(input(\"Please enter a year: \"))\n",
    "leap(x)"
   ]
  }
 ],
 "metadata": {
  "kernelspec": {
   "display_name": "Python 3",
   "language": "python",
   "name": "python3"
  },
  "language_info": {
   "codemirror_mode": {
    "name": "ipython",
    "version": 3
   },
   "file_extension": ".py",
   "mimetype": "text/x-python",
   "name": "python",
   "nbconvert_exporter": "python",
   "pygments_lexer": "ipython3",
   "version": "3.8.3"
  }
 },
 "nbformat": 4,
 "nbformat_minor": 4
}
